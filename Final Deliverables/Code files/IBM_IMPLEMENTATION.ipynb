{
  "nbformat": 4,
  "nbformat_minor": 0,
  "metadata": {
    "colab": {
      "provenance": []
    },
    "kernelspec": {
      "name": "python3",
      "display_name": "Python 3"
    },
    "language_info": {
      "name": "python"
    }
  },
  "cells": [
    {
      "cell_type": "code",
      "execution_count": null,
      "metadata": {
        "id": "OnboOODafwb7"
      },
      "outputs": [],
      "source": [
        "import numpy as np\n",
        "import pandas as pd\n",
        "import matplotlib.pyplot as plt\n",
        "%matplotlib inline\n",
        "import seaborn as sns\n",
        "df= pd.read_csv(\"/content/mock_kaggle.csv\")"
      ]
    },
    {
      "cell_type": "code",
      "source": [
        "df.head(10)"
      ],
      "metadata": {
        "colab": {
          "base_uri": "https://localhost:8080/",
          "height": 363
        },
        "id": "ulc2ROmi4dXG",
        "outputId": "82f45bbc-f0eb-4c38-faee-756654a33f09"
      },
      "execution_count": null,
      "outputs": [
        {
          "output_type": "execute_result",
          "data": {
            "text/plain": [
              "         data  venda  estoque  preco\n",
              "0  2014-01-01      0     4972   1.29\n",
              "1  2014-01-02     70     4902   1.29\n",
              "2  2014-01-03     59     4843   1.29\n",
              "3  2014-01-04     93     4750   1.29\n",
              "4  2014-01-05     96     4654   1.29\n",
              "5  2014-01-06    145     4509   1.29\n",
              "6  2014-01-07    179     4329   1.29\n",
              "7  2014-01-08    321     4104   1.29\n",
              "8  2014-01-09    125     4459   1.09\n",
              "9  2014-01-10     88     5043   1.09"
            ],
            "text/html": [
              "\n",
              "  <div id=\"df-ed29e53c-bead-4458-b2eb-5790a56067d1\">\n",
              "    <div class=\"colab-df-container\">\n",
              "      <div>\n",
              "<style scoped>\n",
              "    .dataframe tbody tr th:only-of-type {\n",
              "        vertical-align: middle;\n",
              "    }\n",
              "\n",
              "    .dataframe tbody tr th {\n",
              "        vertical-align: top;\n",
              "    }\n",
              "\n",
              "    .dataframe thead th {\n",
              "        text-align: right;\n",
              "    }\n",
              "</style>\n",
              "<table border=\"1\" class=\"dataframe\">\n",
              "  <thead>\n",
              "    <tr style=\"text-align: right;\">\n",
              "      <th></th>\n",
              "      <th>data</th>\n",
              "      <th>venda</th>\n",
              "      <th>estoque</th>\n",
              "      <th>preco</th>\n",
              "    </tr>\n",
              "  </thead>\n",
              "  <tbody>\n",
              "    <tr>\n",
              "      <th>0</th>\n",
              "      <td>2014-01-01</td>\n",
              "      <td>0</td>\n",
              "      <td>4972</td>\n",
              "      <td>1.29</td>\n",
              "    </tr>\n",
              "    <tr>\n",
              "      <th>1</th>\n",
              "      <td>2014-01-02</td>\n",
              "      <td>70</td>\n",
              "      <td>4902</td>\n",
              "      <td>1.29</td>\n",
              "    </tr>\n",
              "    <tr>\n",
              "      <th>2</th>\n",
              "      <td>2014-01-03</td>\n",
              "      <td>59</td>\n",
              "      <td>4843</td>\n",
              "      <td>1.29</td>\n",
              "    </tr>\n",
              "    <tr>\n",
              "      <th>3</th>\n",
              "      <td>2014-01-04</td>\n",
              "      <td>93</td>\n",
              "      <td>4750</td>\n",
              "      <td>1.29</td>\n",
              "    </tr>\n",
              "    <tr>\n",
              "      <th>4</th>\n",
              "      <td>2014-01-05</td>\n",
              "      <td>96</td>\n",
              "      <td>4654</td>\n",
              "      <td>1.29</td>\n",
              "    </tr>\n",
              "    <tr>\n",
              "      <th>5</th>\n",
              "      <td>2014-01-06</td>\n",
              "      <td>145</td>\n",
              "      <td>4509</td>\n",
              "      <td>1.29</td>\n",
              "    </tr>\n",
              "    <tr>\n",
              "      <th>6</th>\n",
              "      <td>2014-01-07</td>\n",
              "      <td>179</td>\n",
              "      <td>4329</td>\n",
              "      <td>1.29</td>\n",
              "    </tr>\n",
              "    <tr>\n",
              "      <th>7</th>\n",
              "      <td>2014-01-08</td>\n",
              "      <td>321</td>\n",
              "      <td>4104</td>\n",
              "      <td>1.29</td>\n",
              "    </tr>\n",
              "    <tr>\n",
              "      <th>8</th>\n",
              "      <td>2014-01-09</td>\n",
              "      <td>125</td>\n",
              "      <td>4459</td>\n",
              "      <td>1.09</td>\n",
              "    </tr>\n",
              "    <tr>\n",
              "      <th>9</th>\n",
              "      <td>2014-01-10</td>\n",
              "      <td>88</td>\n",
              "      <td>5043</td>\n",
              "      <td>1.09</td>\n",
              "    </tr>\n",
              "  </tbody>\n",
              "</table>\n",
              "</div>\n",
              "      <button class=\"colab-df-convert\" onclick=\"convertToInteractive('df-ed29e53c-bead-4458-b2eb-5790a56067d1')\"\n",
              "              title=\"Convert this dataframe to an interactive table.\"\n",
              "              style=\"display:none;\">\n",
              "        \n",
              "  <svg xmlns=\"http://www.w3.org/2000/svg\" height=\"24px\"viewBox=\"0 0 24 24\"\n",
              "       width=\"24px\">\n",
              "    <path d=\"M0 0h24v24H0V0z\" fill=\"none\"/>\n",
              "    <path d=\"M18.56 5.44l.94 2.06.94-2.06 2.06-.94-2.06-.94-.94-2.06-.94 2.06-2.06.94zm-11 1L8.5 8.5l.94-2.06 2.06-.94-2.06-.94L8.5 2.5l-.94 2.06-2.06.94zm10 10l.94 2.06.94-2.06 2.06-.94-2.06-.94-.94-2.06-.94 2.06-2.06.94z\"/><path d=\"M17.41 7.96l-1.37-1.37c-.4-.4-.92-.59-1.43-.59-.52 0-1.04.2-1.43.59L10.3 9.45l-7.72 7.72c-.78.78-.78 2.05 0 2.83L4 21.41c.39.39.9.59 1.41.59.51 0 1.02-.2 1.41-.59l7.78-7.78 2.81-2.81c.8-.78.8-2.07 0-2.86zM5.41 20L4 18.59l7.72-7.72 1.47 1.35L5.41 20z\"/>\n",
              "  </svg>\n",
              "      </button>\n",
              "      \n",
              "  <style>\n",
              "    .colab-df-container {\n",
              "      display:flex;\n",
              "      flex-wrap:wrap;\n",
              "      gap: 12px;\n",
              "    }\n",
              "\n",
              "    .colab-df-convert {\n",
              "      background-color: #E8F0FE;\n",
              "      border: none;\n",
              "      border-radius: 50%;\n",
              "      cursor: pointer;\n",
              "      display: none;\n",
              "      fill: #1967D2;\n",
              "      height: 32px;\n",
              "      padding: 0 0 0 0;\n",
              "      width: 32px;\n",
              "    }\n",
              "\n",
              "    .colab-df-convert:hover {\n",
              "      background-color: #E2EBFA;\n",
              "      box-shadow: 0px 1px 2px rgba(60, 64, 67, 0.3), 0px 1px 3px 1px rgba(60, 64, 67, 0.15);\n",
              "      fill: #174EA6;\n",
              "    }\n",
              "\n",
              "    [theme=dark] .colab-df-convert {\n",
              "      background-color: #3B4455;\n",
              "      fill: #D2E3FC;\n",
              "    }\n",
              "\n",
              "    [theme=dark] .colab-df-convert:hover {\n",
              "      background-color: #434B5C;\n",
              "      box-shadow: 0px 1px 3px 1px rgba(0, 0, 0, 0.15);\n",
              "      filter: drop-shadow(0px 1px 2px rgba(0, 0, 0, 0.3));\n",
              "      fill: #FFFFFF;\n",
              "    }\n",
              "  </style>\n",
              "\n",
              "      <script>\n",
              "        const buttonEl =\n",
              "          document.querySelector('#df-ed29e53c-bead-4458-b2eb-5790a56067d1 button.colab-df-convert');\n",
              "        buttonEl.style.display =\n",
              "          google.colab.kernel.accessAllowed ? 'block' : 'none';\n",
              "\n",
              "        async function convertToInteractive(key) {\n",
              "          const element = document.querySelector('#df-ed29e53c-bead-4458-b2eb-5790a56067d1');\n",
              "          const dataTable =\n",
              "            await google.colab.kernel.invokeFunction('convertToInteractive',\n",
              "                                                     [key], {});\n",
              "          if (!dataTable) return;\n",
              "\n",
              "          const docLinkHtml = 'Like what you see? Visit the ' +\n",
              "            '<a target=\"_blank\" href=https://colab.research.google.com/notebooks/data_table.ipynb>data table notebook</a>'\n",
              "            + ' to learn more about interactive tables.';\n",
              "          element.innerHTML = '';\n",
              "          dataTable['output_type'] = 'display_data';\n",
              "          await google.colab.output.renderOutput(dataTable, element);\n",
              "          const docLink = document.createElement('div');\n",
              "          docLink.innerHTML = docLinkHtml;\n",
              "          element.appendChild(docLink);\n",
              "        }\n",
              "      </script>\n",
              "    </div>\n",
              "  </div>\n",
              "  "
            ]
          },
          "metadata": {},
          "execution_count": 23
        }
      ]
    },
    {
      "cell_type": "code",
      "source": [
        "sns.countplot(data=df,x=\"preco\")"
      ],
      "metadata": {
        "colab": {
          "base_uri": "https://localhost:8080/",
          "height": 296
        },
        "id": "ge3EpiIm4VDE",
        "outputId": "3ecdb8e2-2aa4-4746-b9b7-d069248124bb"
      },
      "execution_count": null,
      "outputs": [
        {
          "output_type": "execute_result",
          "data": {
            "text/plain": [
              "<matplotlib.axes._subplots.AxesSubplot at 0x7f74c6b47650>"
            ]
          },
          "metadata": {},
          "execution_count": 24
        },
        {
          "output_type": "display_data",
          "data": {
            "text/plain": [
              "<Figure size 432x288 with 1 Axes>"
            ],
            "image/png": "[encoded data removed]"
          },
          "metadata": {
            "needs_background": "light"
          }
        }
      ]
    },
    {
      "cell_type": "code",
      "source": [
        "import datetime\n",
        "df['Date'] = pd.to_datetime(df['data'])\n",
        "df['Date'] = df['Date'].dt.strftime('%d.%m.%Y')\n",
        "df['year'] = pd.DatetimeIndex(df['data']).year\n",
        "df['month'] = pd.DatetimeIndex(df['data']).month\n",
        "df['day'] = pd.DatetimeIndex(df['data']).day\n",
        "df['dayofyear'] = pd.DatetimeIndex(df['data']).dayofyear\n",
        "df['weekofyear'] = pd.DatetimeIndex(df['data']).weekofyear\n",
        "df['weekday'] = pd.DatetimeIndex(df['data']).weekday\n",
        "df['quarter'] = pd.DatetimeIndex(df['data']).quarter\n",
        "df['is_month_start'] = pd.DatetimeIndex(df['data']).is_month_start\n",
        "df['is_month_end'] = pd.DatetimeIndex(df['data']).is_month_end\n",
        "df['revenue'] = df.apply(lambda row: row.venda + row.preco, axis=1)\n",
        "\n",
        "print(df.info())"
      ],
      "metadata": {
        "id": "P2btpIpQ5cAF",
        "colab": {
          "base_uri": "https://localhost:8080/"
        },
        "outputId": "132f5e7d-6f3f-4886-e10d-e2006e79dd6f"
      },
      "execution_count": null,
      "outputs": [
        {
          "output_type": "stream",
          "name": "stdout",
          "text": [
            "<class 'pandas.core.frame.DataFrame'>\n",
            "RangeIndex: 937 entries, 0 to 936\n",
            "Data columns (total 15 columns):\n",
            " #   Column          Non-Null Count  Dtype  \n",
            "---  ------          --------------  -----  \n",
            " 0   data            937 non-null    object \n",
            " 1   venda           937 non-null    int64  \n",
            " 2   estoque         937 non-null    int64  \n",
            " 3   preco           937 non-null    float64\n",
            " 4   Date            937 non-null    object \n",
            " 5   year            937 non-null    int64  \n",
            " 6   month           937 non-null    int64  \n",
            " 7   day             937 non-null    int64  \n",
            " 8   dayofyear       937 non-null    int64  \n",
            " 9   weekofyear      937 non-null    int64  \n",
            " 10  weekday         937 non-null    int64  \n",
            " 11  quarter         937 non-null    int64  \n",
            " 12  is_month_start  937 non-null    bool   \n",
            " 13  is_month_end    937 non-null    bool   \n",
            " 14  revenue         937 non-null    float64\n",
            "dtypes: bool(2), float64(2), int64(9), object(2)\n",
            "memory usage: 97.1+ KB\n",
            "None\n"
          ]
        },
        {
          "output_type": "stream",
          "name": "stderr",
          "text": [
            "/usr/local/lib/python3.7/dist-packages/ipykernel_launcher.py:8: FutureWarning: weekofyear and week have been deprecated, please use DatetimeIndex.isocalendar().week instead, which returns a Series.  To exactly reproduce the behavior of week and weekofyear and return an Index, you may call pd.Int64Index(idx.isocalendar().week)\n",
            "  \n"
          ]
        }
      ]
    },
    {
      "cell_type": "code",
      "source": [
        "df.head(10)"
      ],
      "metadata": {
        "colab": {
          "base_uri": "https://localhost:8080/",
          "height": 601
        },
        "id": "qIp0piKNZyLM",
        "outputId": "025684d0-ca83-499b-caa0-5f2cbac39d04"
      },
      "execution_count": null,
      "outputs": [
        {
          "output_type": "execute_result",
          "data": {
            "text/plain": [
              "         data  venda  estoque  preco        Date  year  month  day  dayofyear  \\\n",
              "0  2014-01-01      0     4972   1.29  01.01.2014  2014      1    1          1   \n",
              "1  2014-01-02     70     4902   1.29  02.01.2014  2014      1    2          2   \n",
              "2  2014-01-03     59     4843   1.29  03.01.2014  2014      1    3          3   \n",
              "3  2014-01-04     93     4750   1.29  04.01.2014  2014      1    4          4   \n",
              "4  2014-01-05     96     4654   1.29  05.01.2014  2014      1    5          5   \n",
              "5  2014-01-06    145     4509   1.29  06.01.2014  2014      1    6          6   \n",
              "6  2014-01-07    179     4329   1.29  07.01.2014  2014      1    7          7   \n",
              "7  2014-01-08    321     4104   1.29  08.01.2014  2014      1    8          8   \n",
              "8  2014-01-09    125     4459   1.09  09.01.2014  2014      1    9          9   \n",
              "9  2014-01-10     88     5043   1.09  10.01.2014  2014      1   10         10   \n",
              "\n",
              "   weekofyear  weekday  quarter  is_month_start  is_month_end  revenue  \n",
              "0           1        2        1            True         False     1.29  \n",
              "1           1        3        1           False         False    71.29  \n",
              "2           1        4        1           False         False    60.29  \n",
              "3           1        5        1           False         False    94.29  \n",
              "4           1        6        1           False         False    97.29  \n",
              "5           2        0        1           False         False   146.29  \n",
              "6           2        1        1           False         False   180.29  \n",
              "7           2        2        1           False         False   322.29  \n",
              "8           2        3        1           False         False   126.09  \n",
              "9           2        4        1           False         False    89.09  "
            ],
            "text/html": [
              "\n",
              "  <div id=\"df-98a7cede-0a3c-4af2-93c0-f4ff99c5b1ee\">\n",
              "    <div class=\"colab-df-container\">\n",
              "      <div>\n",
              "<style scoped>\n",
              "    .dataframe tbody tr th:only-of-type {\n",
              "        vertical-align: middle;\n",
              "    }\n",
              "\n",
              "    .dataframe tbody tr th {\n",
              "        vertical-align: top;\n",
              "    }\n",
              "\n",
              "    .dataframe thead th {\n",
              "        text-align: right;\n",
              "    }\n",
              "</style>\n",
              "<table border=\"1\" class=\"dataframe\">\n",
              "  <thead>\n",
              "    <tr style=\"text-align: right;\">\n",
              "      <th></th>\n",
              "      <th>data</th>\n",
              "      <th>venda</th>\n",
              "      <th>estoque</th>\n",
              "      <th>preco</th>\n",
              "      <th>Date</th>\n",
              "      <th>year</th>\n",
              "      <th>month</th>\n",
              "      <th>day</th>\n",
              "      <th>dayofyear</th>\n",
              "      <th>weekofyear</th>\n",
              "      <th>weekday</th>\n",
              "      <th>quarter</th>\n",
              "      <th>is_month_start</th>\n",
              "      <th>is_month_end</th>\n",
              "      <th>revenue</th>\n",
              "    </tr>\n",
              "  </thead>\n",
              "  <tbody>\n",
              "    <tr>\n",
              "      <th>0</th>\n",
              "      <td>2014-01-01</td>\n",
              "      <td>0</td>\n",
              "      <td>4972</td>\n",
              "      <td>1.29</td>\n",
              "      <td>01.01.2014</td>\n",
              "      <td>2014</td>\n",
              "      <td>1</td>\n",
              "      <td>1</td>\n",
              "      <td>1</td>\n",
              "      <td>1</td>\n",
              "      <td>2</td>\n",
              "      <td>1</td>\n",
              "      <td>True</td>\n",
              "      <td>False</td>\n",
              "      <td>1.29</td>\n",
              "    </tr>\n",
              "    <tr>\n",
              "      <th>1</th>\n",
              "      <td>2014-01-02</td>\n",
              "      <td>70</td>\n",
              "      <td>4902</td>\n",
              "      <td>1.29</td>\n",
              "      <td>02.01.2014</td>\n",
              "      <td>2014</td>\n",
              "      <td>1</td>\n",
              "      <td>2</td>\n",
              "      <td>2</td>\n",
              "      <td>1</td>\n",
              "      <td>3</td>\n",
              "      <td>1</td>\n",
              "      <td>False</td>\n",
              "      <td>False</td>\n",
              "      <td>71.29</td>\n",
              "    </tr>\n",
              "    <tr>\n",
              "      <th>2</th>\n",
              "      <td>2014-01-03</td>\n",
              "      <td>59</td>\n",
              "      <td>4843</td>\n",
              "      <td>1.29</td>\n",
              "      <td>03.01.2014</td>\n",
              "      <td>2014</td>\n",
              "      <td>1</td>\n",
              "      <td>3</td>\n",
              "      <td>3</td>\n",
              "      <td>1</td>\n",
              "      <td>4</td>\n",
              "      <td>1</td>\n",
              "      <td>False</td>\n",
              "      <td>False</td>\n",
              "      <td>60.29</td>\n",
              "    </tr>\n",
              "    <tr>\n",
              "      <th>3</th>\n",
              "      <td>2014-01-04</td>\n",
              "      <td>93</td>\n",
              "      <td>4750</td>\n",
              "      <td>1.29</td>\n",
              "      <td>04.01.2014</td>\n",
              "      <td>2014</td>\n",
              "      <td>1</td>\n",
              "      <td>4</td>\n",
              "      <td>4</td>\n",
              "      <td>1</td>\n",
              "      <td>5</td>\n",
              "      <td>1</td>\n",
              "      <td>False</td>\n",
              "      <td>False</td>\n",
              "      <td>94.29</td>\n",
              "    </tr>\n",
              "    <tr>\n",
              "      <th>4</th>\n",
              "      <td>2014-01-05</td>\n",
              "      <td>96</td>\n",
              "      <td>4654</td>\n",
              "      <td>1.29</td>\n",
              "      <td>05.01.2014</td>\n",
              "      <td>2014</td>\n",
              "      <td>1</td>\n",
              "      <td>5</td>\n",
              "      <td>5</td>\n",
              "      <td>1</td>\n",
              "      <td>6</td>\n",
              "      <td>1</td>\n",
              "      <td>False</td>\n",
              "      <td>False</td>\n",
              "      <td>97.29</td>\n",
              "    </tr>\n",
              "    <tr>\n",
              "      <th>5</th>\n",
              "      <td>2014-01-06</td>\n",
              "      <td>145</td>\n",
              "      <td>4509</td>\n",
              "      <td>1.29</td>\n",
              "      <td>06.01.2014</td>\n",
              "      <td>2014</td>\n",
              "      <td>1</td>\n",
              "      <td>6</td>\n",
              "      <td>6</td>\n",
              "      <td>2</td>\n",
              "      <td>0</td>\n",
              "      <td>1</td>\n",
              "      <td>False</td>\n",
              "      <td>False</td>\n",
              "      <td>146.29</td>\n",
              "    </tr>\n",
              "    <tr>\n",
              "      <th>6</th>\n",
              "      <td>2014-01-07</td>\n",
              "      <td>179</td>\n",
              "      <td>4329</td>\n",
              "      <td>1.29</td>\n",
              "      <td>07.01.2014</td>\n",
              "      <td>2014</td>\n",
              "      <td>1</td>\n",
              "      <td>7</td>\n",
              "      <td>7</td>\n",
              "      <td>2</td>\n",
              "      <td>1</td>\n",
              "      <td>1</td>\n",
              "      <td>False</td>\n",
              "      <td>False</td>\n",
              "      <td>180.29</td>\n",
              "    </tr>\n",
              "    <tr>\n",
              "      <th>7</th>\n",
              "      <td>2014-01-08</td>\n",
              "      <td>321</td>\n",
              "      <td>4104</td>\n",
              "      <td>1.29</td>\n",
              "      <td>08.01.2014</td>\n",
              "      <td>2014</td>\n",
              "      <td>1</td>\n",
              "      <td>8</td>\n",
              "      <td>8</td>\n",
              "      <td>2</td>\n",
              "      <td>2</td>\n",
              "      <td>1</td>\n",
              "      <td>False</td>\n",
              "      <td>False</td>\n",
              "      <td>322.29</td>\n",
              "    </tr>\n",
              "    <tr>\n",
              "      <th>8</th>\n",
              "      <td>2014-01-09</td>\n",
              "      <td>125</td>\n",
              "      <td>4459</td>\n",
              "      <td>1.09</td>\n",
              "      <td>09.01.2014</td>\n",
              "      <td>2014</td>\n",
              "      <td>1</td>\n",
              "      <td>9</td>\n",
              "      <td>9</td>\n",
              "      <td>2</td>\n",
              "      <td>3</td>\n",
              "      <td>1</td>\n",
              "      <td>False</td>\n",
              "      <td>False</td>\n",
              "      <td>126.09</td>\n",
              "    </tr>\n",
              "    <tr>\n",
              "      <th>9</th>\n",
              "      <td>2014-01-10</td>\n",
              "      <td>88</td>\n",
              "      <td>5043</td>\n",
              "      <td>1.09</td>\n",
              "      <td>10.01.2014</td>\n",
              "      <td>2014</td>\n",
              "      <td>1</td>\n",
              "      <td>10</td>\n",
              "      <td>10</td>\n",
              "      <td>2</td>\n",
              "      <td>4</td>\n",
              "      <td>1</td>\n",
              "      <td>False</td>\n",
              "      <td>False</td>\n",
              "      <td>89.09</td>\n",
              "    </tr>\n",
              "  </tbody>\n",
              "</table>\n",
              "</div>\n",
              "      <button class=\"colab-df-convert\" onclick=\"convertToInteractive('df-98a7cede-0a3c-4af2-93c0-f4ff99c5b1ee')\"\n",
              "              title=\"Convert this dataframe to an interactive table.\"\n",
              "              style=\"display:none;\">\n",
              "        \n",
              "  <svg xmlns=\"http://www.w3.org/2000/svg\" height=\"24px\"viewBox=\"0 0 24 24\"\n",
              "       width=\"24px\">\n",
              "    <path d=\"M0 0h24v24H0V0z\" fill=\"none\"/>\n",
              "    <path d=\"M18.56 5.44l.94 2.06.94-2.06 2.06-.94-2.06-.94-.94-2.06-.94 2.06-2.06.94zm-11 1L8.5 8.5l.94-2.06 2.06-.94-2.06-.94L8.5 2.5l-.94 2.06-2.06.94zm10 10l.94 2.06.94-2.06 2.06-.94-2.06-.94-.94-2.06-.94 2.06-2.06.94z\"/><path d=\"M17.41 7.96l-1.37-1.37c-.4-.4-.92-.59-1.43-.59-.52 0-1.04.2-1.43.59L10.3 9.45l-7.72 7.72c-.78.78-.78 2.05 0 2.83L4 21.41c.39.39.9.59 1.41.59.51 0 1.02-.2 1.41-.59l7.78-7.78 2.81-2.81c.8-.78.8-2.07 0-2.86zM5.41 20L4 18.59l7.72-7.72 1.47 1.35L5.41 20z\"/>\n",
              "  </svg>\n",
              "      </button>\n",
              "      \n",
              "  <style>\n",
              "    .colab-df-container {\n",
              "      display:flex;\n",
              "      flex-wrap:wrap;\n",
              "      gap: 12px;\n",
              "    }\n",
              "\n",
              "    .colab-df-convert {\n",
              "      background-color: #E8F0FE;\n",
              "      border: none;\n",
              "      border-radius: 50%;\n",
              "      cursor: pointer;\n",
              "      display: none;\n",
              "      fill: #1967D2;\n",
              "      height: 32px;\n",
              "      padding: 0 0 0 0;\n",
              "      width: 32px;\n",
              "    }\n",
              "\n",
              "    .colab-df-convert:hover {\n",
              "      background-color: #E2EBFA;\n",
              "      box-shadow: 0px 1px 2px rgba(60, 64, 67, 0.3), 0px 1px 3px 1px rgba(60, 64, 67, 0.15);\n",
              "      fill: #174EA6;\n",
              "    }\n",
              "\n",
              "    [theme=dark] .colab-df-convert {\n",
              "      background-color: #3B4455;\n",
              "      fill: #D2E3FC;\n",
              "    }\n",
              "\n",
              "    [theme=dark] .colab-df-convert:hover {\n",
              "      background-color: #434B5C;\n",
              "      box-shadow: 0px 1px 3px 1px rgba(0, 0, 0, 0.15);\n",
              "      filter: drop-shadow(0px 1px 2px rgba(0, 0, 0, 0.3));\n",
              "      fill: #FFFFFF;\n",
              "    }\n",
              "  </style>\n",
              "\n",
              "      <script>\n",
              "        const buttonEl =\n",
              "          document.querySelector('#df-98a7cede-0a3c-4af2-93c0-f4ff99c5b1ee button.colab-df-convert');\n",
              "        buttonEl.style.display =\n",
              "          google.colab.kernel.accessAllowed ? 'block' : 'none';\n",
              "\n",
              "        async function convertToInteractive(key) {\n",
              "          const element = document.querySelector('#df-98a7cede-0a3c-4af2-93c0-f4ff99c5b1ee');\n",
              "          const dataTable =\n",
              "            await google.colab.kernel.invokeFunction('convertToInteractive',\n",
              "                                                     [key], {});\n",
              "          if (!dataTable) return;\n",
              "\n",
              "          const docLinkHtml = 'Like what you see? Visit the ' +\n",
              "            '<a target=\"_blank\" href=https://colab.research.google.com/notebooks/data_table.ipynb>data table notebook</a>'\n",
              "            + ' to learn more about interactive tables.';\n",
              "          element.innerHTML = '';\n",
              "          dataTable['output_type'] = 'display_data';\n",
              "          await google.colab.output.renderOutput(dataTable, element);\n",
              "          const docLink = document.createElement('div');\n",
              "          docLink.innerHTML = docLinkHtml;\n",
              "          element.appendChild(docLink);\n",
              "        }\n",
              "      </script>\n",
              "    </div>\n",
              "  </div>\n",
              "  "
            ]
          },
          "metadata": {},
          "execution_count": 26
        }
      ]
    },
    {
      "cell_type": "code",
      "source": [
        "df = pd.get_dummies(df, columns=['year'], drop_first=True, prefix='year')\n",
        "\n",
        "df = pd.get_dummies(df, columns=['month'], drop_first=True, prefix='month')\n",
        "\n",
        "df = pd.get_dummies(df, columns=['weekday'], drop_first=True, prefix='wday')\n",
        "df = pd.get_dummies(df, columns=['quarter'], drop_first=True, prefix='qrtr')\n",
        "\n",
        "df = pd.get_dummies(df, columns=['is_month_start'], drop_first=True, prefix='m_start')\n",
        "\n",
        "df = pd.get_dummies(df, columns=['is_month_end'], drop_first=True, prefix='m_end')\n",
        "\n",
        "\n",
        "df.info()"
      ],
      "metadata": {
        "id": "gPKtClw5aXiX",
        "colab": {
          "base_uri": "https://localhost:8080/"
        },
        "outputId": "7b61ccaf-d25a-4314-f607-ba62bac39b3d"
      },
      "execution_count": null,
      "outputs": [
        {
          "output_type": "stream",
          "name": "stdout",
          "text": [
            "<class 'pandas.core.frame.DataFrame'>\n",
            "RangeIndex: 937 entries, 0 to 936\n",
            "Data columns (total 33 columns):\n",
            " #   Column        Non-Null Count  Dtype  \n",
            "---  ------        --------------  -----  \n",
            " 0   data          937 non-null    object \n",
            " 1   venda         937 non-null    int64  \n",
            " 2   estoque       937 non-null    int64  \n",
            " 3   preco         937 non-null    float64\n",
            " 4   Date          937 non-null    object \n",
            " 5   day           937 non-null    int64  \n",
            " 6   dayofyear     937 non-null    int64  \n",
            " 7   weekofyear    937 non-null    int64  \n",
            " 8   revenue       937 non-null    float64\n",
            " 9   year_2015     937 non-null    uint8  \n",
            " 10  year_2016     937 non-null    uint8  \n",
            " 11  month_2       937 non-null    uint8  \n",
            " 12  month_3       937 non-null    uint8  \n",
            " 13  month_4       937 non-null    uint8  \n",
            " 14  month_5       937 non-null    uint8  \n",
            " 15  month_6       937 non-null    uint8  \n",
            " 16  month_7       937 non-null    uint8  \n",
            " 17  month_8       937 non-null    uint8  \n",
            " 18  month_9       937 non-null    uint8  \n",
            " 19  month_10      937 non-null    uint8  \n",
            " 20  month_11      937 non-null    uint8  \n",
            " 21  month_12      937 non-null    uint8  \n",
            " 22  wday_1        937 non-null    uint8  \n",
            " 23  wday_2        937 non-null    uint8  \n",
            " 24  wday_3        937 non-null    uint8  \n",
            " 25  wday_4        937 non-null    uint8  \n",
            " 26  wday_5        937 non-null    uint8  \n",
            " 27  wday_6        937 non-null    uint8  \n",
            " 28  qrtr_2        937 non-null    uint8  \n",
            " 29  qrtr_3        937 non-null    uint8  \n",
            " 30  qrtr_4        937 non-null    uint8  \n",
            " 31  m_start_True  937 non-null    uint8  \n",
            " 32  m_end_True    937 non-null    uint8  \n",
            "dtypes: float64(2), int64(5), object(2), uint8(24)\n",
            "memory usage: 88.0+ KB\n"
          ]
        }
      ]
    },
    {
      "cell_type": "code",
      "source": [
        "df.isna().sum()"
      ],
      "metadata": {
        "colab": {
          "base_uri": "https://localhost:8080/"
        },
        "id": "joUhIwGcwlv5",
        "outputId": "87958ddf-ffd4-4185-a4fd-32838313b2b2"
      },
      "execution_count": null,
      "outputs": [
        {
          "output_type": "execute_result",
          "data": {
            "text/plain": [
              "data            0\n",
              "venda           0\n",
              "estoque         0\n",
              "preco           0\n",
              "Date            0\n",
              "day             0\n",
              "dayofyear       0\n",
              "weekofyear      0\n",
              "revenue         0\n",
              "year_2015       0\n",
              "year_2016       0\n",
              "month_2         0\n",
              "month_3         0\n",
              "month_4         0\n",
              "month_5         0\n",
              "month_6         0\n",
              "month_7         0\n",
              "month_8         0\n",
              "month_9         0\n",
              "month_10        0\n",
              "month_11        0\n",
              "month_12        0\n",
              "wday_1          0\n",
              "wday_2          0\n",
              "wday_3          0\n",
              "wday_4          0\n",
              "wday_5          0\n",
              "wday_6          0\n",
              "qrtr_2          0\n",
              "qrtr_3          0\n",
              "qrtr_4          0\n",
              "m_start_True    0\n",
              "m_end_True      0\n",
              "dtype: int64"
            ]
          },
          "metadata": {},
          "execution_count": 28
        }
      ]
    },
    {
      "cell_type": "code",
      "source": [
        "x=df.drop(['data','venda','Date','revenue'],axis=1)\n",
        "y=df['venda']"
      ],
      "metadata": {
        "id": "br-V8bZOyALM"
      },
      "execution_count": null,
      "outputs": []
    },
    {
      "cell_type": "code",
      "source": [
        "y"
      ],
      "metadata": {
        "colab": {
          "base_uri": "https://localhost:8080/"
        },
        "id": "iRYYiPHEySoZ",
        "outputId": "0d2cf9ec-f6cb-4552-d3b6-0d86b57bee85"
      },
      "execution_count": null,
      "outputs": [
        {
          "output_type": "execute_result",
          "data": {
            "text/plain": [
              "0        0\n",
              "1       70\n",
              "2       59\n",
              "3       93\n",
              "4       96\n",
              "      ... \n",
              "932     98\n",
              "933    108\n",
              "934    128\n",
              "935    270\n",
              "936    183\n",
              "Name: venda, Length: 937, dtype: int64"
            ]
          },
          "metadata": {},
          "execution_count": 30
        }
      ]
    },
    {
      "cell_type": "code",
      "source": [
        "from sklearn.model_selection import train_test_split\n",
        "# Split the data into training and testing sets\n",
        "X_train, X_test, Y_train, Y_test = train_test_split(x, y, test_size = 0.2, random_state = 42)\n",
        "from sklearn.linear_model import LinearRegression\n",
        "from sklearn.metrics import r2_score\n",
        "import matplotlib.pyplot as plt\n",
        "import seaborn as sns\n"
      ],
      "metadata": {
        "id": "CLf4Iwleyx80"
      },
      "execution_count": null,
      "outputs": []
    },
    {
      "cell_type": "code",
      "source": [
        "linreg=LinearRegression()\n",
        "linreg.fit(X_train,Y_train)"
      ],
      "metadata": {
        "colab": {
          "base_uri": "https://localhost:8080/"
        },
        "id": "80fHj4kFzhbD",
        "outputId": "45cead7a-8db6-4ae9-ad12-3bc91e198cb0"
      },
      "execution_count": null,
      "outputs": [
        {
          "output_type": "execute_result",
          "data": {
            "text/plain": [
              "LinearRegression()"
            ]
          },
          "metadata": {},
          "execution_count": 38
        }
      ]
    },
    {
      "cell_type": "code",
      "source": [
        "y_pred=linreg.predict(X_test)\n",
        "y_pred"
      ],
      "metadata": {
        "colab": {
          "base_uri": "https://localhost:8080/"
        },
        "id": "y7Pbu8zezpok",
        "outputId": "e29e08dc-01fe-4335-f1a0-5442a6c1a623"
      },
      "execution_count": null,
      "outputs": [
        {
          "output_type": "execute_result",
          "data": {
            "text/plain": [
              "array([ 30.54338058,  56.9915559 ,  38.81102532, 108.84937597,\n",
              "        50.23199823, 105.55738948,  58.66678484,  87.04228257,\n",
              "        82.22544557,  56.15171517, 121.77438602,  59.96451882,\n",
              "        73.66355115,  54.68474814,  82.28382178,  88.91705458,\n",
              "        44.21221692, 236.59350901, 143.63049929,  64.67997074,\n",
              "       139.33805773, 160.56682729, 204.76348408, 126.43238627,\n",
              "        51.44122998,  57.27226047,  82.46637528,  88.58423325,\n",
              "        79.0975377 ,  47.73234742,  83.87842006,  68.14943119,\n",
              "       135.35589412, 121.20844695,  60.02634785,  38.00094093,\n",
              "        76.57045057,  61.46014444,  91.05396274,  27.22491299,\n",
              "       108.53640035,  99.9193482 ,  89.53050832,  72.86149645,\n",
              "        71.81607134,  83.82697691, 128.0600208 ,  91.93350843,\n",
              "        63.09497697,  91.93900965, 124.02109027,  45.94562238,\n",
              "        28.3309    , 100.84602085, 131.95504916,  80.32872064,\n",
              "       126.35888627,  81.27506977, 130.79419995, 123.53905508,\n",
              "       174.18523372,  73.52823817, 117.11487873,  76.81107831,\n",
              "        42.62494892, 202.56512084,  92.18624659,  73.31541268,\n",
              "       192.21361393, 104.02224435,  64.36975675,  95.44458558,\n",
              "        76.92955805,  88.23626376,  49.37841594,  76.18458311,\n",
              "        56.45895623, 109.51204262,   5.85491675,  96.43007436,\n",
              "        65.87014106,  62.74809903, 139.04005865,  50.59647237,\n",
              "        86.55755834,  70.56435525,  69.05848904, 139.52329526,\n",
              "        95.57072996,  84.56258768,  37.27913188,  16.53248515,\n",
              "       239.43872872, 162.89218002, 119.88592479,  95.92225487,\n",
              "        49.31976744, 162.85854341,  70.58297402,  88.82776707,\n",
              "        26.96158449, 104.41611571, 100.13115924, 170.07172778,\n",
              "        21.43644328,  47.09303614, 123.1159382 ,  58.53213646,\n",
              "       101.59550421,  82.19538153,  67.35250379, 124.55774209,\n",
              "        97.45720748,  42.08639884,  91.22320996,  81.1010554 ,\n",
              "        97.86579512, 133.89646626,  55.33906794, 155.14204129,\n",
              "       159.45573422,  68.22944666,  67.63635748,  72.93130679,\n",
              "        72.87633326,  70.5252534 ,  97.80003424, 144.25361727,\n",
              "       163.68766732,  89.05264034, 107.19909642,  34.91075473,\n",
              "       219.82510191,  50.52860221, 132.66941433,  41.07261507,\n",
              "        42.45261553,  53.90531859,  95.40552323,  36.0041949 ,\n",
              "       223.64627892,  58.16486012, 139.16964948,  93.69529716,\n",
              "       115.72435984, 163.07061136,  77.11951311,  75.39533501,\n",
              "        12.18579588, 118.82186037,  93.76489034,  57.50240763,\n",
              "       136.63040346,  98.44450379,  44.89329076, 101.690062  ,\n",
              "        78.26225408,  81.97471288, 163.57254491,  53.38299424,\n",
              "       155.00822929, 160.8620578 , 160.69517203,  60.0003892 ,\n",
              "        46.08541889, 124.8352034 , 111.61217345,  58.52674922,\n",
              "        39.17105481,  73.59425915, 149.93404656,  51.42791199,\n",
              "       213.21452586,  98.23512657,  56.72080081,  40.91642921,\n",
              "        46.33132136, 104.03912877,   7.94101163, 102.92184273,\n",
              "        55.00099571,  43.75637252,  85.67851893, 102.29243377,\n",
              "       115.68395772,  83.7060717 ,  48.85832688,  27.68289453])"
            ]
          },
          "metadata": {},
          "execution_count": 39
        }
      ]
    },
    {
      "cell_type": "code",
      "source": [
        "Accuracy=r2_score(Y_test,y_pred)*100\n",
        "print(\" Accuracy of the model is %.2f\" %Accuracy)"
      ],
      "metadata": {
        "colab": {
          "base_uri": "https://localhost:8080/"
        },
        "id": "tIccDJWg1Xv2",
        "outputId": "33a330ac-e160-4d79-e049-edede4e3875d"
      },
      "execution_count": null,
      "outputs": [
        {
          "output_type": "stream",
          "name": "stdout",
          "text": [
            " Accuracy of the model is 32.15\n"
          ]
        }
      ]
    },
    {
      "cell_type": "code",
      "source": [
        "sns.regplot(x=Y_test,y=y_pred,ci=None,color ='red')"
      ],
      "metadata": {
        "colab": {
          "base_uri": "https://localhost:8080/",
          "height": 299
        },
        "id": "s8q-Q6xk1hXZ",
        "outputId": "2c812b4f-8c7f-433b-832a-10bd41891660"
      },
      "execution_count": null,
      "outputs": [
        {
          "output_type": "execute_result",
          "data": {
            "text/plain": [
              "<matplotlib.axes._subplots.AxesSubplot at 0x7f74c699add0>"
            ]
          },
          "metadata": {},
          "execution_count": 41
        },
        {
          "output_type": "display_data",
          "data": {
            "text/plain": [
              "<Figure size 432x288 with 1 Axes>"
            ],
            "image/png": "[encoded data removed]"
          },
          "metadata": {
            "needs_background": "light"
          }
        }
      ]
    },
    {
      "cell_type": "code",
      "source": [],
      "metadata": {
        "id": "RJVlwuxa2Cv5"
      },
      "execution_count": null,
      "outputs": []
    }
  ]
}